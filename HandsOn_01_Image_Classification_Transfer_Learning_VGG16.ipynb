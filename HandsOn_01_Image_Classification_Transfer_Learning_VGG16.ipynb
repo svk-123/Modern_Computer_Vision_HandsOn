{
 "cells": [
  {
   "cell_type": "markdown",
   "id": "1fbb8e14-1474-4647-8e57-53aa3c0e91c3",
   "metadata": {},
   "source": [
    "### Transfer Learning - Image Classification using VGGNet\n",
    "##### Ref:  Modern Computer Vision with PyTorch, Second Edition, published by Packt"
   ]
  },
  {
   "cell_type": "code",
   "execution_count": 7,
   "id": "452ca07c-8c16-4880-a70a-1631b6d75050",
   "metadata": {},
   "outputs": [],
   "source": [
    "import torchvision\n",
    "import torch.nn as nn\n",
    "import torch\n",
    "import torch.nn.functional as F\n",
    "from torchvision import transforms,models,datasets\n",
    "import matplotlib.pyplot as plt\n",
    "from PIL import Image\n",
    "import numpy as np\n",
    "from torch import optim\n",
    "import cv2, glob, numpy as np, pandas as pd\n",
    "import matplotlib.pyplot as plt\n",
    "from glob import glob\n",
    "import torchvision.transforms as transforms\n",
    "from torch.utils.data import DataLoader, Dataset"
   ]
  },
  {
   "cell_type": "code",
   "execution_count": 8,
   "id": "562f526b-23e4-4cbf-92a3-4cd564749aa3",
   "metadata": {},
   "outputs": [
    {
     "name": "stdout",
     "output_type": "stream",
     "text": [
      "cuda\n"
     ]
    }
   ],
   "source": [
    "device = 'cuda' if torch.cuda.is_available() else 'cpu'\n",
    "print(device)"
   ]
  },
  {
   "cell_type": "code",
   "execution_count": null,
   "id": "7d7abe76-48b5-4266-8bc5-912463fcd627",
   "metadata": {},
   "outputs": [],
   "source": []
  }
 ],
 "metadata": {
  "kernelspec": {
   "display_name": "Python 3 (ipykernel)",
   "language": "python",
   "name": "python3"
  },
  "language_info": {
   "codemirror_mode": {
    "name": "ipython",
    "version": 3
   },
   "file_extension": ".py",
   "mimetype": "text/x-python",
   "name": "python",
   "nbconvert_exporter": "python",
   "pygments_lexer": "ipython3",
   "version": "3.11.10"
  }
 },
 "nbformat": 4,
 "nbformat_minor": 5
}
